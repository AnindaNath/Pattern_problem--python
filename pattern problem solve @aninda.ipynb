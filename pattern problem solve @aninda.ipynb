{
 "cells": [
  {
   "cell_type": "code",
   "execution_count": 1,
   "id": "201dbf7a",
   "metadata": {},
   "outputs": [
    {
     "name": "stdout",
     "output_type": "stream",
     "text": [
      "1111\n",
      "2222\n",
      "3333\n",
      "4444\n"
     ]
    }
   ],
   "source": [
    "# 1 no answer \n",
    "user_input=5\n",
    "for line in range(1,user_input):\n",
    "    for col in range(1,user_input):\n",
    "        print(line,end=\"\")\n",
    "    print()"
   ]
  },
  {
   "cell_type": "code",
   "execution_count": 18,
   "id": "91607554",
   "metadata": {
    "scrolled": true
   },
   "outputs": [
    {
     "name": "stdout",
     "output_type": "stream",
     "text": [
      "2222\n",
      "2222\n",
      "2222\n",
      "2222\n"
     ]
    }
   ],
   "source": [
    "user_input=5\n",
    "for aninda in range(1,user_input):\n",
    "    for line in range(1,user_input):\n",
    "        print(col,end=\"\")\n",
    "    print()\n"
   ]
  },
  {
   "cell_type": "code",
   "execution_count": 19,
   "id": "f5eb248e",
   "metadata": {},
   "outputs": [
    {
     "name": "stdout",
     "output_type": "stream",
     "text": [
      "aninda\n",
      "xyz\n"
     ]
    }
   ],
   "source": [
    "print(\"aninda\")\n",
    "print(\"xyz\")"
   ]
  },
  {
   "cell_type": "code",
   "execution_count": 20,
   "id": "460777e9",
   "metadata": {},
   "outputs": [
    {
     "name": "stdout",
     "output_type": "stream",
     "text": [
      "1\n",
      "22\n",
      "333\n",
      "4444\n"
     ]
    }
   ],
   "source": [
    "#2 no answer\n",
    "user_input=5\n",
    "for line in range(1,user_input):\n",
    "    for col in range(1,line+1):\n",
    "        print(line,end=\"\")\n",
    "    print()\n"
   ]
  },
  {
   "cell_type": "code",
   "execution_count": 3,
   "id": "ca537971",
   "metadata": {},
   "outputs": [
    {
     "name": "stdout",
     "output_type": "stream",
     "text": [
      "1####\n",
      "12###\n",
      "123##\n",
      "1234#\n",
      "12345\n"
     ]
    }
   ],
   "source": [
    "# 3 no answer \n",
    "user_input=5\n",
    "for line in range(1,user_input+1):\n",
    "    for col in range(1,user_input+1):  #(1,3)\n",
    "        if col<=line:\n",
    "             print(col,end=\"\")\n",
    "        else:\n",
    "             print(\"#\",end=\"\")\n",
    "    print()"
   ]
  },
  {
   "cell_type": "code",
   "execution_count": 7,
   "id": "f4afce94",
   "metadata": {},
   "outputs": [
    {
     "name": "stdout",
     "output_type": "stream",
     "text": [
      "***1\n",
      "**12\n",
      "*123\n",
      "1234\n"
     ]
    }
   ],
   "source": [
    "# 4 no answer\n",
    "user_input=4\n",
    "for line in range(1,user_input+1):\n",
    "      space_num=user_input-line\n",
    "      for space in range(1,space_num+1):\n",
    "          print(\"*\",end=\"\")\n",
    "      for col in range(1,line+1):\n",
    "          print(col,end=\"\")\n",
    "      print()"
   ]
  },
  {
   "cell_type": "code",
   "execution_count": 10,
   "id": "ecbb3a37",
   "metadata": {},
   "outputs": [
    {
     "name": "stdout",
     "output_type": "stream",
     "text": [
      "   *\n",
      "  **\n",
      " ***\n",
      "****\n"
     ]
    }
   ],
   "source": [
    "# 5 no answer\n",
    "user_input=4\n",
    "for line in range(1,user_input+1):\n",
    "    space_limit=user_input-line\n",
    "    for space in range(1,space_limit+1):\n",
    "        print(\" \",end=\"\")\n",
    "    for col in range(1,line+1):\n",
    "        print(\"*\",end=\"\")\n",
    "    print()"
   ]
  },
  {
   "cell_type": "code",
   "execution_count": 6,
   "id": "44b8b374",
   "metadata": {},
   "outputs": [
    {
     "name": "stdout",
     "output_type": "stream",
     "text": [
      "1\n",
      "12\n",
      "1 3\n",
      "1  4\n",
      "12345\n"
     ]
    }
   ],
   "source": [
    "# 6 no answer\n",
    "user_input=5\n",
    "for line in range(1,user_input+1):\n",
    "    for col in range(1,line+1):\n",
    "        if col==1 or line==user_input or col==line:\n",
    "            print(col,end=\"\")\n",
    "        else:\n",
    "            print(\" \",end=\"\")\n",
    "    print()"
   ]
  },
  {
   "cell_type": "code",
   "execution_count": 7,
   "id": "9edef5d8",
   "metadata": {},
   "outputs": [
    {
     "name": "stdout",
     "output_type": "stream",
     "text": [
      "*\n",
      "**\n",
      "* *\n",
      "*  *\n",
      "*****\n"
     ]
    }
   ],
   "source": [
    "#7 no answer\n",
    "user_input=5\n",
    "for line in range(1,user_input+1):\n",
    "    for col in range(1,line+1):\n",
    "        if col==1 or line==user_input or col==line:\n",
    "            print(\"*\",end=\"\")\n",
    "        else:\n",
    "            print(\" \",end=\"\")\n",
    "    print()"
   ]
  },
  {
   "cell_type": "code",
   "execution_count": 3,
   "id": "06fd81fb",
   "metadata": {},
   "outputs": [
    {
     "name": "stdout",
     "output_type": "stream",
     "text": [
      "    1    \n",
      "   12   \n",
      "  1 3  \n",
      " 1  4 \n",
      "12345\n"
     ]
    }
   ],
   "source": [
    "#8 no answer\n",
    "user_input=5\n",
    "for line in range(1,user_input+1):\n",
    "    space_limit=user_input-line\n",
    "    for space in range(1,space_limit+1):\n",
    "        print(\" \",end=\"\")\n",
    "    for col in range(1,user_input+1):\n",
    "        if col==1 or line==col or line==user_input:\n",
    "            print(col,end=\"\")\n",
    "        else:\n",
    "            print(\" \",end=\"\")\n",
    "#             if line>col:\n",
    "#                print(\" \",end=\"\")\n",
    "    print()"
   ]
  },
  {
   "cell_type": "code",
   "execution_count": 5,
   "id": "d5e5b5ed",
   "metadata": {},
   "outputs": [
    {
     "name": "stdout",
     "output_type": "stream",
     "text": [
      "enter the number: 6\n",
      "     *\n",
      "    **\n",
      "   * *\n",
      "  *  *\n",
      " *   *\n",
      "******\n"
     ]
    }
   ],
   "source": [
    "# 9 no answer\n",
    "user_input=int(input(\"enter the number: \"))\n",
    "for line in range(1,user_input+1):\n",
    "    space_limit=user_input-line\n",
    "    for space in range(1,space_limit+1):\n",
    "        print(\" \",end=\"\")\n",
    "    for col in range(1,user_input+1):\n",
    "        if col==1 or line==col or line==user_input:\n",
    "            print(\"*\",end=\"\")\n",
    "        else:\n",
    "            if line>col:\n",
    "              print(\" \",end=\"\")\n",
    "    print()"
   ]
  },
  {
   "cell_type": "code",
   "execution_count": 11,
   "id": "3dfb7d5c",
   "metadata": {},
   "outputs": [
    {
     "name": "stdout",
     "output_type": "stream",
     "text": [
      "1234\n",
      "1##4\n",
      "1##4\n",
      "1234\n"
     ]
    }
   ],
   "source": [
    "# 10 no answer\n",
    "user_input=4\n",
    "for line in range(1,user_input+1):\n",
    "    for col in range(1,user_input+1):\n",
    "        if col==1 or col==user_input or line==1 or line==user_input:\n",
    "            print(col,end=\"\")\n",
    "        else:\n",
    "            print(\"#\",end=\"\")\n",
    "    print()"
   ]
  },
  {
   "cell_type": "code",
   "execution_count": 1,
   "id": "3a8c8962",
   "metadata": {},
   "outputs": [
    {
     "name": "stdout",
     "output_type": "stream",
     "text": [
      "1#####\n",
      "12####\n",
      "1W3###\n",
      "1WW4##\n",
      "1WWW5#\n",
      "123456\n"
     ]
    }
   ],
   "source": [
    "# 11 no answer \n",
    "user_input=6\n",
    "for line in range(1,user_input+1):\n",
    "\n",
    "    for col in range(1,user_input+1):\n",
    "        if col==1 or line==user_input or line==col:\n",
    "            print(col,end=\"\")\n",
    "        else:\n",
    "            if line>col:\n",
    "                print(\"W\",end=\"\")\n",
    "            else:\n",
    "                print(\"#\",end=\"\")\n",
    "    print()"
   ]
  },
  {
   "cell_type": "code",
   "execution_count": 4,
   "id": "a3549f39",
   "metadata": {},
   "outputs": [
    {
     "name": "stdout",
     "output_type": "stream",
     "text": [
      "#####1\n",
      "####12\n",
      "###1W3\n",
      "##1WW4\n",
      "#1WWW5\n",
      "123456\n"
     ]
    }
   ],
   "source": [
    "# 12 n0 answer\n",
    "user_input=6\n",
    "for line in range(1,user_input+1):\n",
    "    space_limit=user_input-line\n",
    "    for space in range(1,space_limit+1):\n",
    "        print(\"#\",end=\"\")\n",
    "    for col in range(1,line+1):\n",
    "        if col==1 or col==line or line==user_input:\n",
    "            print(col,end=\"\")\n",
    "        else:\n",
    "            if line>col:\n",
    "                print(\"W\",end=\"\")\n",
    "    print()"
   ]
  },
  {
   "cell_type": "code",
   "execution_count": 4,
   "id": "08a8ec79",
   "metadata": {},
   "outputs": [
    {
     "name": "stdout",
     "output_type": "stream",
     "text": [
      "   *\n",
      "  ***\n",
      " *****\n",
      "*******\n"
     ]
    }
   ],
   "source": [
    "#13 n0 answer\n",
    "user_input=4\n",
    "for line in range(1,user_input+1):\n",
    "    space_limit=user_input-line\n",
    "    for space in range(1,space_limit+1):\n",
    "        print(\" \",end=\"\")\n",
    "    number_limit=2*line-1\n",
    "    for col in range(1,number_limit+1):\n",
    "        print(\"*\",end=\"\")\n",
    "    print()"
   ]
  },
  {
   "cell_type": "code",
   "execution_count": 10,
   "id": "f3a5884b",
   "metadata": {},
   "outputs": [
    {
     "name": "stdout",
     "output_type": "stream",
     "text": [
      "   1\n",
      "  123\n",
      " 12345\n",
      "1234567\n"
     ]
    }
   ],
   "source": [
    "# 14 no answer\n",
    "user_input=4\n",
    "for line in range(1,user_input+1):\n",
    "    space_limit=user_input-line\n",
    "    for space in range(1,space_limit+1):\n",
    "        print(\" \",end=\"\")\n",
    "    number_limit=2*line-1\n",
    "    for col in range(1,number_limit+1):\n",
    "        print(col,end=\"\")\n",
    "    print()"
   ]
  },
  {
   "cell_type": "code",
   "execution_count": 4,
   "id": "98b690cb",
   "metadata": {},
   "outputs": [
    {
     "name": "stdout",
     "output_type": "stream",
     "text": [
      "    1\n",
      "   212\n",
      "  32123\n",
      " 4321234\n"
     ]
    }
   ],
   "source": [
    "n=5\n",
    "for i in range(1,n):\n",
    "    space_count=n-i\n",
    "    for space in range(space_count):\n",
    "        print(\" \",end=\"\")\n",
    "    for col in range(i,0,-1):\n",
    "        print(col,end=\"\")\n",
    "    for col1 in range(2,i+1):\n",
    "        print(col1,end=\"\")\n",
    "    print()"
   ]
  },
  {
   "cell_type": "code",
   "execution_count": 5,
   "id": "bb6ef66f",
   "metadata": {},
   "outputs": [
    {
     "name": "stdout",
     "output_type": "stream",
     "text": [
      "   1\n",
      "  123\n",
      " 12345\n",
      "1234567\n",
      " 12345\n",
      "  123\n",
      "   1\n"
     ]
    }
   ],
   "source": [
    "#15 no answer\n",
    "user_input=4\n",
    "for line in range(1,user_input+1):\n",
    "    space_limit=user_input-line\n",
    "    for space in range(1,space_limit+1):\n",
    "        print(\" \",end=\"\")\n",
    "    number_limit=2*line-1\n",
    "    for col in range(1,number_limit+1):\n",
    "        print(col,end=\"\")\n",
    "    print()\n",
    "user_input=4\n",
    "for line in range(1,user_input):\n",
    "    space_limit=line\n",
    "    for space in range(1,space_limit+1):\n",
    "        print(\" \",end=\"\")\n",
    "    number_limit=2*(user_input-line)-1\n",
    "    for col in range(1,number_limit+1):\n",
    "        print(col,end=\"\")\n",
    "    print()"
   ]
  },
  {
   "cell_type": "code",
   "execution_count": 4,
   "id": "69e11180",
   "metadata": {},
   "outputs": [
    {
     "name": "stdout",
     "output_type": "stream",
     "text": [
      "Enter the number: 8\n",
      "#######1\n",
      "######121\n",
      "#####12321\n",
      "####1234321\n",
      "###123454321\n",
      "##12345654321\n",
      "#1234567654321\n",
      "123456787654321\n"
     ]
    }
   ],
   "source": [
    "#16 no answer\n",
    "num=int(input(\"Enter the number: \"))\n",
    "for line in range(1,num+1):\n",
    "    space_number=num-line\n",
    "    for space in range(1,space_number+1):\n",
    "        print(\"#\",end=\"\")\n",
    "    for col in range(1,line+1):\n",
    "        print(col,end=\"\")\n",
    "    for col in range(line-1,0,-1):\n",
    "        print(col,end=\"\")\n",
    "    print()"
   ]
  },
  {
   "cell_type": "code",
   "execution_count": 3,
   "id": "ed0a9f6e",
   "metadata": {},
   "outputs": [
    {
     "name": "stdout",
     "output_type": "stream",
     "text": [
      "      1 \n",
      "     1 1 \n",
      "    1 2 1 \n",
      "   1 3 3 1 \n",
      "  1 4 6 4 1 \n"
     ]
    }
   ],
   "source": [
    "#pascal's formate pattern :\n",
    "n=5\n",
    "list1=[]\n",
    "for i in range(n):\n",
    "    temp=[]\n",
    "    for j in range(i+1):\n",
    "        if j==0 or j==i:\n",
    "            temp.append(1)\n",
    "        else:\n",
    "            temp.append(list1[i-1][j]+list1[i-1][j-1])\n",
    "    list1.append(temp)\n",
    "for line in range(n):\n",
    "    space_count=(n-line)+1\n",
    "    for space in range(space_count):\n",
    "        print(\" \",end=\"\")\n",
    "    for i in list1[line]:\n",
    "        print(i,end=\" \")\n",
    "    print()"
   ]
  },
  {
   "cell_type": "code",
   "execution_count": 1,
   "id": "026f3b4d",
   "metadata": {},
   "outputs": [
    {
     "name": "stdout",
     "output_type": "stream",
     "text": [
      "*****\n",
      "*   *\n",
      "*****\n",
      "*   *\n",
      "*   *\n",
      "\n",
      "*   *\n",
      "**  *\n",
      "* * *\n",
      "*  **\n",
      "*   *\n",
      "\n",
      "*****\n",
      "  *  \n",
      "  *  \n",
      "  *  \n",
      "*****\n",
      "\n",
      "*   *\n",
      "**  *\n",
      "* * *\n",
      "*  **\n",
      "*   *\n",
      "\n",
      "***  \n",
      "*   *\n",
      "*   *\n",
      "*   *\n",
      "***  \n",
      "\n",
      "*****\n",
      "*   *\n",
      "*****\n",
      "*   *\n",
      "*   *\n",
      "\n"
     ]
    }
   ],
   "source": [
    "# name create\n",
    "user_input=5\n",
    "for line in range(1,user_input+1):  #(1,5)\n",
    "    for col in range(1,user_input+1): #line 1, col=1,\n",
    "        if col ==1 or col==5 or line==3 or line==1 or line==1 and(col!=1 or col!=5):\n",
    "            print(\"*\",end=\"\")\n",
    "        else:\n",
    "            print(\" \",end=\"\")\n",
    "    print()\n",
    "print()\n",
    "for line in range(1,user_input+1):  #(1,5)\n",
    "    for col in range(1,user_input+1): #line 1, col=1,\n",
    "        if col ==1 or col==5 or col==line:\n",
    "            print(\"*\",end=\"\")\n",
    "        else:\n",
    "            print(\" \",end=\"\")\n",
    "\n",
    "    print()\n",
    "print()\n",
    "for line in range(1,user_input+1):  #(1,5)\n",
    "    for col in range(1,user_input+1): #line 1, col=1,\n",
    "        if line ==1 or line==5 or col==3:\n",
    "            print(\"*\",end=\"\")\n",
    "        else:\n",
    "            print(\" \",end=\"\")\n",
    "    print()\n",
    "print()\n",
    "for line in range(1,user_input+1):  #(1,5)\n",
    "    for col in range(1,user_input+1): #line 1, col=1,\n",
    "        if col ==1 or col==5 or col==line:\n",
    "            print(\"*\",end=\"\")\n",
    "        else:\n",
    "            print(\" \",end=\"\")\n",
    "\n",
    "    print()\n",
    "print()\n",
    "for line in range(1,user_input+1):  #(1,5)\n",
    "    for col in range(1,user_input+1): #line 1, col=5,\n",
    "        if col==1 or  (col==5 and (line!=1 and line!=5)) or (line==1 or line==5)and (col>1 and col<4):\n",
    "\n",
    "            print(\"*\",end=\"\")\n",
    "        else:\n",
    "            print(\" \",end=\"\")\n",
    "\n",
    "    print()\n",
    "print()\n",
    "for line in range(1,user_input+1):  #(1,5)\n",
    "    for col in range(1,user_input+1): #line 1, col=1,\n",
    "        if col ==1 or col==5 or line==3 or line==1 or line==1 and(col!=1 or col!=5):\n",
    "            print(\"*\",end=\"\")\n",
    "        else:\n",
    "            print(\" \",end=\"\")\n",
    "    print()\n",
    "print()"
   ]
  },
  {
   "cell_type": "code",
   "execution_count": 2,
   "id": "57e16698",
   "metadata": {},
   "outputs": [
    {
     "name": "stdout",
     "output_type": "stream",
     "text": [
      " ** **  \n",
      "*  *  * \n",
      "*     * \n",
      " *   *  \n",
      "  * *   \n",
      "   *    \n",
      "        \n"
     ]
    }
   ],
   "source": [
    "#heart\n",
    "user_input=7\n",
    "for line in range(1,user_input+1):\n",
    "    for col in range(1,user_input+2):\n",
    "        if col==1 and (line==2 or line==3 ) or col==2 and(line==1 or line==4) or col==3 and (line==1 or line==5)or col==4 and (line==2 or line==6) or col==5 and(line==1 or line==5)or col==6 and(line==1 or line==4)or col==7 and(line==2 or line==3):\n",
    "\n",
    "            print(\"*\",end=\"\")\n",
    "        else:\n",
    "            print(\" \",end=\"\")\n",
    "    print()"
   ]
  },
  {
   "cell_type": "code",
   "execution_count": 3,
   "id": "c7a0da9e",
   "metadata": {},
   "outputs": [
    {
     "name": "stdout",
     "output_type": "stream",
     "text": [
      " ** ** \n",
      "*  *  *\n",
      "*     *\n",
      " *   * \n",
      "  * *  \n",
      "   *   \n"
     ]
    }
   ],
   "source": [
    "# another logic of create heart \n",
    "\n",
    "user_input=6\n",
    "for line in range(0,user_input):\n",
    "    for col in range(0,user_input+1):\n",
    "        if (line==0 and col%3!=0 ) or (line==1 and col%3==0) or (line-col==2) or (line+col==8):\n",
    "            print(\"*\",end=\"\")\n",
    "        else:\n",
    "            print(\" \",end=\"\")\n",
    "    print()"
   ]
  },
  {
   "cell_type": "code",
   "execution_count": 1,
   "id": "08e29c34",
   "metadata": {},
   "outputs": [
    {
     "name": "stdout",
     "output_type": "stream",
     "text": [
      "enter the your desire number:7\n",
      "*   *\n",
      "*   *\n",
      "*   *\n",
      "*****\n",
      "*   *\n",
      "*   *\n",
      "*   *\n"
     ]
    }
   ],
   "source": [
    "# final question cse110\n",
    "n=int(input(\"enter the your desire number:\"))\n",
    "for line in range(1,n+1):\n",
    "    if n%2!=0:\n",
    "        col_range=n-2\n",
    "        for col in range(1,col_range+1):\n",
    "            if n%2!=0:\n",
    "                if line==(n//2)+1 or col==1 or col==n-2:\n",
    "                    print(\"*\",end=\"\")\n",
    "                else:\n",
    "                    print(\" \",end=\"\")\n",
    "    if n%2==0:\n",
    "        col_range=n-1\n",
    "        for col in range(1,col_range):\n",
    "            if n%2==0:\n",
    "                if line==(n//2) or line==(n//2)+1 or col==1 or col==n-2:\n",
    "                    print(\"*\",end=\"\")\n",
    "                else:\n",
    "                    print(\" \",end=\"\")\n",
    "\n",
    "    print()"
   ]
  },
  {
   "cell_type": "code",
   "execution_count": 2,
   "id": "8c5abf98",
   "metadata": {},
   "outputs": [
    {
     "name": "stdout",
     "output_type": "stream",
     "text": [
      "enter the number: 4\n",
      "###AAAA\n",
      "##A**A\n",
      "#A**A\n",
      "AAAA\n"
     ]
    }
   ],
   "source": [
    "#fnal question cse110\n",
    "n=int(input(\"enter the number: \"))\n",
    "\n",
    "for line in range(1,n+1):\n",
    "    space_count=n-(line-1)\n",
    "    for space in range(1,space_count):\n",
    "        print(\"#\",end=\"\")\n",
    "    for col in range(1,n+1):\n",
    "        if line==1 or line==n or col==1 or col==n:\n",
    "            print(\"A\",end=\"\")\n",
    "        else:\n",
    "            print(\"*\", end=\"\")\n",
    "    print()\n"
   ]
  },
  {
   "cell_type": "code",
   "execution_count": 4,
   "id": "20a6d1a8",
   "metadata": {},
   "outputs": [
    {
     "name": "stdout",
     "output_type": "stream",
     "text": [
      "* \n",
      "* * \n",
      "* * * \n",
      "* * * * \n",
      "* * * * * \n",
      "* * * * * * \n",
      "* * * * * * * \n",
      "* * * * * * * * \n",
      "* * * * * * * * * \n",
      "* * * * * * * * * * \n",
      "* * * * * * * * * \n",
      "* * * * * * * * \n",
      "* * * * * * * \n",
      "* * * * * * \n",
      "* * * * * \n",
      "* * * * \n",
      "* * * \n",
      "* * \n",
      "* \n"
     ]
    }
   ],
   "source": [
    "#practice \n",
    "n=10\n",
    "for line in range(n):\n",
    "    for col in range(line+1):\n",
    "        print(\"*\",end=\" \")\n",
    "    print()\n",
    "for line in range(1,n):\n",
    "\n",
    "    count = (n - (line - 1))-1\n",
    "    for col in range(count):\n",
    "        print(\"*\", end=\" \")\n",
    "    print()\n"
   ]
  },
  {
   "cell_type": "code",
   "execution_count": 5,
   "id": "821e279c",
   "metadata": {},
   "outputs": [
    {
     "name": "stdout",
     "output_type": "stream",
     "text": [
      "*******\n",
      "     * \n",
      "    *  \n",
      "   *   \n",
      "  *    \n",
      " *     \n",
      "*******\n"
     ]
    }
   ],
   "source": [
    "#practice\n",
    "n=7\n",
    "for line in range(1,n+1):\n",
    "    for coll in range(1,n+1):\n",
    "        if line==1 or line==n:\n",
    "            print(\"*\",end=\"\")\n",
    "        elif coll==(n-line)+1:\n",
    "            print(\"*\",end=\"\")\n",
    "        else:\n",
    "            print(\" \",end=\"\")\n",
    "    print()\n"
   ]
  },
  {
   "cell_type": "code",
   "execution_count": 4,
   "id": "76815ee9",
   "metadata": {},
   "outputs": [
    {
     "name": "stdout",
     "output_type": "stream",
     "text": [
      "*                                                                                                            *\n",
      "*                                                                                                            *\n",
      " *                                                                                                          * \n",
      "  *                                                                                                        *  \n",
      "   *                                                                                                      *   \n",
      "    *                                                                                                    *    \n",
      "     *                                                                                                  *     \n",
      "      *                                                                                                *      \n",
      "       *                                                                                              *       \n",
      "        *                                                                                            *        \n",
      "         *                                                                                          *         \n",
      "          *                                                                                        *          \n",
      "           *                                                                                      *           \n",
      "            *                                                                                    *            \n",
      "             *                                                                                  *             \n",
      "              *                                                                                *              \n",
      "               *                                                                              *               \n",
      "                *                                                                            *                \n",
      "                 *                                                                          *                 \n",
      "                  *                                                                        *                  \n",
      "                   *                                                                      *                   \n",
      "                    *                                                                    *                    \n",
      "                     *                                                                  *                     \n",
      "                      *                                                                *                      \n",
      "                       *                                                              *                       \n",
      "                        *                                                            *                        \n",
      "                         *                                                          *                         \n",
      "                          *                                                        *                          \n",
      "                           *                                                      *                           \n",
      "                            *                                                    *                            \n",
      "                             *                                                  *                             \n",
      "                              *                                                *                              \n",
      "                               *                                              *                               \n",
      "                                *                                            *                                \n",
      "                                 *                                          *                                 \n",
      "                                  *                                        *                                  \n",
      "                                   *                                      *                                   \n",
      "                                    *                                    *                                    \n",
      "                                     *                                  *                                     \n",
      "                                      *                                *                                      \n",
      "                                       *                              *                                       \n",
      "                                        *                            *                                        \n",
      "                                         *                          *                                         \n",
      "                                          *                        *                                          \n",
      "                                           *                      *                                           \n",
      "                                            *                    *                                            \n",
      "                                             *                  *                                             \n",
      "                                              *                *                                              \n",
      "                                               *              *                                               \n",
      "                                                *            *                                                \n",
      "                                                 *          *                                                 \n",
      "                                                  *        *                                                  \n",
      "                                                   *      *                                                   \n",
      "                                                    *    *                                                    \n",
      "                                                     *  *                                                     \n",
      "                                                      **                                                      \n",
      "                                                      **                                                      \n",
      "                                                     *  *                                                     \n",
      "                                                    *    *                                                    \n",
      "                                                   *      *                                                   \n",
      "                                                  *        *                                                  \n",
      "                                                 *          *                                                 \n",
      "                                                *            *                                                \n",
      "                                               *              *                                               \n",
      "                                              *                *                                              \n",
      "                                             *                  *                                             \n",
      "                                            *                    *                                            \n",
      "                                           *                      *                                           \n",
      "                                          *                        *                                          \n",
      "                                         *                          *                                         \n",
      "                                        *                            *                                        \n",
      "                                       *                              *                                       \n",
      "                                      *                                *                                      \n",
      "                                     *                                  *                                     \n",
      "                                    *                                    *                                    \n",
      "                                   *                                      *                                   \n",
      "                                  *                                        *                                  \n",
      "                                 *                                          *                                 \n",
      "                                *                                            *                                \n",
      "                               *                                              *                               \n",
      "                              *                                                *                              \n",
      "                             *                                                  *                             \n",
      "                            *                                                    *                            \n",
      "                           *                                                      *                           \n",
      "                          *                                                        *                          \n",
      "                         *                                                          *                         \n",
      "                        *                                                            *                        \n",
      "                       *                                                              *                       \n",
      "                      *                                                                *                      \n",
      "                     *                                                                  *                     \n",
      "                    *                                                                    *                    \n",
      "                   *                                                                      *                   \n"
     ]
    },
    {
     "name": "stdout",
     "output_type": "stream",
     "text": [
      "                  *                                                                        *                  \n",
      "                 *                                                                          *                 \n",
      "                *                                                                            *                \n",
      "               *                                                                              *               \n",
      "              *                                                                                *              \n",
      "             *                                                                                  *             \n",
      "            *                                                                                    *            \n",
      "           *                                                                                      *           \n",
      "          *                                                                                        *          \n",
      "         *                                                                                          *         \n",
      "        *                                                                                            *        \n",
      "       *                                                                                              *       \n",
      "      *                                                                                                *      \n",
      "     *                                                                                                  *     \n",
      "    *                                                                                                    *    \n",
      "   *                                                                                                      *   \n",
      "  *                                                                                                        *  \n",
      " *                                                                                                          * \n",
      "*                                                                                                            *\n",
      "*                                                                                                            *\n"
     ]
    }
   ],
   "source": [
    "#practice\n",
    "n=112\n",
    "for line in range(1,n+1):\n",
    "    col_range=n-1\n",
    "    for col in range(1,col_range):\n",
    "\n",
    "        if (line==1 and col==n-2)or (line==1 and col==1) or (line==n and col==1) or (line==n and col==n-2):\n",
    "            print(\"*\",end=\"\")\n",
    "        elif line==line and col==line-1:\n",
    "            print(\"*\",end=\"\")\n",
    "        elif col==n-line:\n",
    "            print(\"*\",end=\"\")\n",
    "        else:\n",
    "            print(\" \",end=\"\")\n",
    "    print()"
   ]
  },
  {
   "cell_type": "code",
   "execution_count": 8,
   "id": "9a29caaa",
   "metadata": {},
   "outputs": [
    {
     "name": "stdout",
     "output_type": "stream",
     "text": [
      " *** \n",
      "*   *\n",
      "*   *\n",
      "*   *\n",
      "*   *\n",
      "*   *\n",
      " *** \n"
     ]
    }
   ],
   "source": [
    "#practice\n",
    "n=7\n",
    "for line in range(1,n+1):\n",
    "    coll_range=n-2\n",
    "    for col in range(1,coll_range+1):\n",
    "        if (line==1 and col==1) or (line==1 and col==n-2) or (line==n and col==1) or (line==n and col==n-2):\n",
    "            print(\" \",end=\"\")\n",
    "        elif line==1 or line ==n or col==1 or col==n-2:\n",
    "            print(\"*\",end=\"\")\n",
    "        else:\n",
    "            print(\" \",end=\"\")\n",
    "    print()\n"
   ]
  },
  {
   "cell_type": "code",
   "execution_count": 3,
   "id": "c5c8790e",
   "metadata": {},
   "outputs": [
    {
     "name": "stdout",
     "output_type": "stream",
     "text": [
      " *** \n",
      "*   *\n",
      "*    \n",
      "* ***\n",
      "*   *\n",
      "*   *\n",
      " *** \n"
     ]
    }
   ],
   "source": [
    "#practice\n",
    "n=7\n",
    "for line in range(1,n+1):\n",
    "    coll_range=n-2\n",
    "    for col in range(1,coll_range+1):\n",
    "        if (line==1 and col==1) or (line==1 and col==n-2) or (line==n and col==1) or (line==n and col==n-2):\n",
    "            print(\" \",end=\"\")\n",
    "        elif line==n//2 and col==(n//2)+2:\n",
    "            print(\" \",end=\"\")\n",
    "        elif line==1 or line ==n or col==1 or col==n-2:\n",
    "            print(\"*\",end=\"\")\n",
    "        elif (col==n//2 and line==(n//2)+1) or (line==(n//2)+1 and  col==(n//2)+1):\n",
    "            print(\"*\",end=\"\")\n",
    "       # elif line==n//2 and col==(n//2)+1:\n",
    "       #     print(\" \",end=\"\")\n",
    "        else:\n",
    "            print(\" \",end=\"\")\n",
    "    print()\n"
   ]
  },
  {
   "cell_type": "code",
   "execution_count": 13,
   "id": "5d444954",
   "metadata": {},
   "outputs": [
    {
     "name": "stdout",
     "output_type": "stream",
     "text": [
      "1 2 3 4 5 6 7 8 9 10 \n",
      "1 2 3 4 5 6 7 8 9 \n",
      "1 2 3 4 5 6 7 8 \n",
      "1 2 3 4 5 6 7 \n",
      "1 2 3 4 5 6 \n",
      "1 2 3 4 5 \n",
      "1 2 3 4 \n",
      "1 2 3 \n",
      "1 2 \n",
      "1 \n",
      "\n",
      "\n"
     ]
    }
   ],
   "source": [
    "#practice\n",
    "n=12\n",
    "for line in range(1,n+1):\n",
    "    col_range=n-line\n",
    "    for col in range(1,col_range):\n",
    "        print(col,end=\" \")\n",
    "    print()"
   ]
  },
  {
   "cell_type": "code",
   "execution_count": 14,
   "id": "edc7fd92",
   "metadata": {},
   "outputs": [
    {
     "name": "stdout",
     "output_type": "stream",
     "text": [
      "1 2 3 4 5 6 7 8 9 10 \n",
      "1 2 3 4 5 6 7 8 9 \n",
      "1 2 3 4 5 6 7 8 \n",
      "1 2 3 4 5 6 7 \n",
      "1 2 3 4 5 6 \n",
      "1 2 3 4 5 \n",
      "1 2 3 4 \n",
      "1 2 3 \n",
      "1 2 \n",
      "1 \n"
     ]
    }
   ],
   "source": [
    "#another approach \n",
    "n=10\n",
    "for i in range(n,0,-1):\n",
    "    for j in range(1,i+1):\n",
    "        print(j,end=\" \")\n",
    "    print()"
   ]
  },
  {
   "cell_type": "code",
   "execution_count": 23,
   "id": "41c78978",
   "metadata": {},
   "outputs": [
    {
     "name": "stdout",
     "output_type": "stream",
     "text": [
      "                  1 \n",
      "                1 2 \n",
      "              1 2 3 \n",
      "            1 2 3 4 \n",
      "          1 2 3 4 5 \n",
      "        1 2 3 4 5 6 \n",
      "      1 2 3 4 5 6 7 \n",
      "    1 2 3 4 5 6 7 8 \n",
      "  1 2 3 4 5 6 7 8 9 \n",
      "1 2 3 4 5 6 7 8 9 10 \n"
     ]
    }
   ],
   "source": [
    "n=10\n",
    "for i in range(1,n+1):\n",
    "    space_range=n-i\n",
    "    for space in range(space_range):\n",
    "        \n",
    "        print(\" \",end=\" \")\n",
    "    for j in range(1,i+1):\n",
    "        print(j,end=\" \")\n",
    "    print()"
   ]
  },
  {
   "cell_type": "code",
   "execution_count": 5,
   "id": "f4a20fae",
   "metadata": {},
   "outputs": [
    {
     "name": "stdout",
     "output_type": "stream",
     "text": [
      "A \n",
      "B B \n",
      "C C C \n",
      "D D D D \n",
      "E E E E E \n",
      "F F F F F F \n",
      "G G G G G G G \n",
      "H H H H H H H H \n",
      "I I I I I I I I I \n",
      "J J J J J J J J J J \n",
      "K K K K K K K K K K K \n",
      "L L L L L L L L L L L L \n",
      "M M M M M M M M M M M M M \n",
      "N N N N N N N N N N N N N N \n",
      "O O O O O O O O O O O O O O O \n",
      "P P P P P P P P P P P P P P P P \n",
      "Q Q Q Q Q Q Q Q Q Q Q Q Q Q Q Q Q \n",
      "R R R R R R R R R R R R R R R R R R \n",
      "S S S S S S S S S S S S S S S S S S S \n",
      "T T T T T T T T T T T T T T T T T T T T \n",
      "U U U U U U U U U U U U U U U U U U U U U \n",
      "V V V V V V V V V V V V V V V V V V V V V V \n",
      "W W W W W W W W W W W W W W W W W W W W W W W \n",
      "X X X X X X X X X X X X X X X X X X X X X X X X \n",
      "Y Y Y Y Y Y Y Y Y Y Y Y Y Y Y Y Y Y Y Y Y Y Y Y Y \n",
      "Z Z Z Z Z Z Z Z Z Z Z Z Z Z Z Z Z Z Z Z Z Z Z Z Z Z \n"
     ]
    }
   ],
   "source": [
    "x=65\n",
    "n=26\n",
    "for i in range(n):\n",
    "    y=chr(x)\n",
    "    x+=1\n",
    "    for j in range(i+1):\n",
    "        print(y,end=\" \")\n",
    "    print()"
   ]
  },
  {
   "cell_type": "code",
   "execution_count": 2,
   "id": "3d4cc7ac",
   "metadata": {},
   "outputs": [
    {
     "name": "stdout",
     "output_type": "stream",
     "text": [
      "      *    \n",
      "    *  *   \n",
      "  *    *  \n",
      "* * * * * * * \n"
     ]
    }
   ],
   "source": [
    "n=4\n",
    "for line in range(1,n+1):\n",
    "    space_range=(n-line)\n",
    "    for space in range(space_range):\n",
    "        print(\" \",end=\"\")\n",
    "\n",
    "    for col in range(1,n+4):\n",
    "\n",
    "        if line==(n-col)+1 or line==n or col-line==3 :\n",
    "            print(\"*\",end=\" \")\n",
    "        else:\n",
    "            print(\" \",end=\"\")\n",
    "\n",
    "    print()"
   ]
  },
  {
   "cell_type": "code",
   "execution_count": 4,
   "id": "b356b3c0",
   "metadata": {},
   "outputs": [
    {
     "name": "stdout",
     "output_type": "stream",
     "text": [
      "aninda debnath"
     ]
    }
   ],
   "source": [
    "string_1=\"aninda debnath\"\n",
    "for i in range(len(string_1)):\n",
    "    print(string_1[i],end=\"\")"
   ]
  },
  {
   "cell_type": "code",
   "execution_count": null,
   "id": "246712d6",
   "metadata": {},
   "outputs": [],
   "source": []
  }
 ],
 "metadata": {
  "kernelspec": {
   "display_name": "Python 3",
   "language": "python",
   "name": "python3"
  },
  "language_info": {
   "codemirror_mode": {
    "name": "ipython",
    "version": 3
   },
   "file_extension": ".py",
   "mimetype": "text/x-python",
   "name": "python",
   "nbconvert_exporter": "python",
   "pygments_lexer": "ipython3",
   "version": "3.8.8"
  }
 },
 "nbformat": 4,
 "nbformat_minor": 5
}
